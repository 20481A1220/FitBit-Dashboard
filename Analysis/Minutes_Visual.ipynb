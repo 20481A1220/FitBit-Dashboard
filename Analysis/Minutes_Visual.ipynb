{
  "nbformat": 4,
  "nbformat_minor": 0,
  "metadata": {
    "colab": {
      "provenance": []
    },
    "kernelspec": {
      "name": "python3",
      "display_name": "Python 3"
    },
    "language_info": {
      "name": "python"
    }
  },
  "cells": [
    {
      "cell_type": "markdown",
      "source": [
        "# Minutes Dataset"
      ],
      "metadata": {
        "id": "jUFOun3kndxZ"
      }
    },
    {
      "cell_type": "markdown",
      "source": [
        "Importing Librraries"
      ],
      "metadata": {
        "id": "hTfa_cH6nh3A"
      }
    },
    {
      "cell_type": "code",
      "execution_count": 57,
      "metadata": {
        "id": "EtK4yJIZoe18"
      },
      "outputs": [],
      "source": [
        "import numpy as np\n",
        "import pandas as pd\n",
        "import seaborn as sns\n",
        "import matplotlib.pyplot as plt\n",
        "import plotly.express as px"
      ]
    },
    {
      "cell_type": "markdown",
      "source": [
        "Loading the data"
      ],
      "metadata": {
        "id": "J2-9zx7MnkdD"
      }
    },
    {
      "cell_type": "code",
      "source": [
        "df = pd.read_csv('/content/minute_stats.csv')"
      ],
      "metadata": {
        "id": "UuyO7ZQko6xp"
      },
      "execution_count": 58,
      "outputs": []
    },
    {
      "cell_type": "markdown",
      "source": [
        "Basic Analysis"
      ],
      "metadata": {
        "id": "ui6DIC-znmYU"
      }
    },
    {
      "cell_type": "code",
      "source": [
        "df.head(3)"
      ],
      "metadata": {
        "colab": {
          "base_uri": "https://localhost:8080/",
          "height": 143
        },
        "id": "Qw-JsSZaiwRQ",
        "outputId": "24ef1c7c-95ec-4e3e-b12b-878486c3ddbf"
      },
      "execution_count": 59,
      "outputs": [
        {
          "output_type": "execute_result",
          "data": {
            "text/plain": [
              "           Id ActivityDay ActivityMinute  METs  Calories  Intensity  Sleep  \\\n",
              "0  1503960366  01-05-2016       00:00:00    10    0.7865          0      0   \n",
              "1  1503960366  01-05-2016       00:01:00    12    0.9438          0      0   \n",
              "2  1503960366  01-05-2016       00:02:00    38    2.9887          1      0   \n",
              "\n",
              "   Steps  \n",
              "0      0  \n",
              "1      0  \n",
              "2     50  "
            ],
            "text/html": [
              "\n",
              "  <div id=\"df-635d2178-f91c-418b-97c6-92ae64094c35\" class=\"colab-df-container\">\n",
              "    <div>\n",
              "<style scoped>\n",
              "    .dataframe tbody tr th:only-of-type {\n",
              "        vertical-align: middle;\n",
              "    }\n",
              "\n",
              "    .dataframe tbody tr th {\n",
              "        vertical-align: top;\n",
              "    }\n",
              "\n",
              "    .dataframe thead th {\n",
              "        text-align: right;\n",
              "    }\n",
              "</style>\n",
              "<table border=\"1\" class=\"dataframe\">\n",
              "  <thead>\n",
              "    <tr style=\"text-align: right;\">\n",
              "      <th></th>\n",
              "      <th>Id</th>\n",
              "      <th>ActivityDay</th>\n",
              "      <th>ActivityMinute</th>\n",
              "      <th>METs</th>\n",
              "      <th>Calories</th>\n",
              "      <th>Intensity</th>\n",
              "      <th>Sleep</th>\n",
              "      <th>Steps</th>\n",
              "    </tr>\n",
              "  </thead>\n",
              "  <tbody>\n",
              "    <tr>\n",
              "      <th>0</th>\n",
              "      <td>1503960366</td>\n",
              "      <td>01-05-2016</td>\n",
              "      <td>00:00:00</td>\n",
              "      <td>10</td>\n",
              "      <td>0.7865</td>\n",
              "      <td>0</td>\n",
              "      <td>0</td>\n",
              "      <td>0</td>\n",
              "    </tr>\n",
              "    <tr>\n",
              "      <th>1</th>\n",
              "      <td>1503960366</td>\n",
              "      <td>01-05-2016</td>\n",
              "      <td>00:01:00</td>\n",
              "      <td>12</td>\n",
              "      <td>0.9438</td>\n",
              "      <td>0</td>\n",
              "      <td>0</td>\n",
              "      <td>0</td>\n",
              "    </tr>\n",
              "    <tr>\n",
              "      <th>2</th>\n",
              "      <td>1503960366</td>\n",
              "      <td>01-05-2016</td>\n",
              "      <td>00:02:00</td>\n",
              "      <td>38</td>\n",
              "      <td>2.9887</td>\n",
              "      <td>1</td>\n",
              "      <td>0</td>\n",
              "      <td>50</td>\n",
              "    </tr>\n",
              "  </tbody>\n",
              "</table>\n",
              "</div>\n",
              "    <div class=\"colab-df-buttons\">\n",
              "\n",
              "  <div class=\"colab-df-container\">\n",
              "    <button class=\"colab-df-convert\" onclick=\"convertToInteractive('df-635d2178-f91c-418b-97c6-92ae64094c35')\"\n",
              "            title=\"Convert this dataframe to an interactive table.\"\n",
              "            style=\"display:none;\">\n",
              "\n",
              "  <svg xmlns=\"http://www.w3.org/2000/svg\" height=\"24px\" viewBox=\"0 -960 960 960\">\n",
              "    <path d=\"M120-120v-720h720v720H120Zm60-500h600v-160H180v160Zm220 220h160v-160H400v160Zm0 220h160v-160H400v160ZM180-400h160v-160H180v160Zm440 0h160v-160H620v160ZM180-180h160v-160H180v160Zm440 0h160v-160H620v160Z\"/>\n",
              "  </svg>\n",
              "    </button>\n",
              "\n",
              "  <style>\n",
              "    .colab-df-container {\n",
              "      display:flex;\n",
              "      gap: 12px;\n",
              "    }\n",
              "\n",
              "    .colab-df-convert {\n",
              "      background-color: #E8F0FE;\n",
              "      border: none;\n",
              "      border-radius: 50%;\n",
              "      cursor: pointer;\n",
              "      display: none;\n",
              "      fill: #1967D2;\n",
              "      height: 32px;\n",
              "      padding: 0 0 0 0;\n",
              "      width: 32px;\n",
              "    }\n",
              "\n",
              "    .colab-df-convert:hover {\n",
              "      background-color: #E2EBFA;\n",
              "      box-shadow: 0px 1px 2px rgba(60, 64, 67, 0.3), 0px 1px 3px 1px rgba(60, 64, 67, 0.15);\n",
              "      fill: #174EA6;\n",
              "    }\n",
              "\n",
              "    .colab-df-buttons div {\n",
              "      margin-bottom: 4px;\n",
              "    }\n",
              "\n",
              "    [theme=dark] .colab-df-convert {\n",
              "      background-color: #3B4455;\n",
              "      fill: #D2E3FC;\n",
              "    }\n",
              "\n",
              "    [theme=dark] .colab-df-convert:hover {\n",
              "      background-color: #434B5C;\n",
              "      box-shadow: 0px 1px 3px 1px rgba(0, 0, 0, 0.15);\n",
              "      filter: drop-shadow(0px 1px 2px rgba(0, 0, 0, 0.3));\n",
              "      fill: #FFFFFF;\n",
              "    }\n",
              "  </style>\n",
              "\n",
              "    <script>\n",
              "      const buttonEl =\n",
              "        document.querySelector('#df-635d2178-f91c-418b-97c6-92ae64094c35 button.colab-df-convert');\n",
              "      buttonEl.style.display =\n",
              "        google.colab.kernel.accessAllowed ? 'block' : 'none';\n",
              "\n",
              "      async function convertToInteractive(key) {\n",
              "        const element = document.querySelector('#df-635d2178-f91c-418b-97c6-92ae64094c35');\n",
              "        const dataTable =\n",
              "          await google.colab.kernel.invokeFunction('convertToInteractive',\n",
              "                                                    [key], {});\n",
              "        if (!dataTable) return;\n",
              "\n",
              "        const docLinkHtml = 'Like what you see? Visit the ' +\n",
              "          '<a target=\"_blank\" href=https://colab.research.google.com/notebooks/data_table.ipynb>data table notebook</a>'\n",
              "          + ' to learn more about interactive tables.';\n",
              "        element.innerHTML = '';\n",
              "        dataTable['output_type'] = 'display_data';\n",
              "        await google.colab.output.renderOutput(dataTable, element);\n",
              "        const docLink = document.createElement('div');\n",
              "        docLink.innerHTML = docLinkHtml;\n",
              "        element.appendChild(docLink);\n",
              "      }\n",
              "    </script>\n",
              "  </div>\n",
              "\n",
              "\n",
              "<div id=\"df-34868ca3-0a96-4a92-bc99-48ffc2677358\">\n",
              "  <button class=\"colab-df-quickchart\" onclick=\"quickchart('df-34868ca3-0a96-4a92-bc99-48ffc2677358')\"\n",
              "            title=\"Suggest charts\"\n",
              "            style=\"display:none;\">\n",
              "\n",
              "<svg xmlns=\"http://www.w3.org/2000/svg\" height=\"24px\"viewBox=\"0 0 24 24\"\n",
              "     width=\"24px\">\n",
              "    <g>\n",
              "        <path d=\"M19 3H5c-1.1 0-2 .9-2 2v14c0 1.1.9 2 2 2h14c1.1 0 2-.9 2-2V5c0-1.1-.9-2-2-2zM9 17H7v-7h2v7zm4 0h-2V7h2v10zm4 0h-2v-4h2v4z\"/>\n",
              "    </g>\n",
              "</svg>\n",
              "  </button>\n",
              "\n",
              "<style>\n",
              "  .colab-df-quickchart {\n",
              "      --bg-color: #E8F0FE;\n",
              "      --fill-color: #1967D2;\n",
              "      --hover-bg-color: #E2EBFA;\n",
              "      --hover-fill-color: #174EA6;\n",
              "      --disabled-fill-color: #AAA;\n",
              "      --disabled-bg-color: #DDD;\n",
              "  }\n",
              "\n",
              "  [theme=dark] .colab-df-quickchart {\n",
              "      --bg-color: #3B4455;\n",
              "      --fill-color: #D2E3FC;\n",
              "      --hover-bg-color: #434B5C;\n",
              "      --hover-fill-color: #FFFFFF;\n",
              "      --disabled-bg-color: #3B4455;\n",
              "      --disabled-fill-color: #666;\n",
              "  }\n",
              "\n",
              "  .colab-df-quickchart {\n",
              "    background-color: var(--bg-color);\n",
              "    border: none;\n",
              "    border-radius: 50%;\n",
              "    cursor: pointer;\n",
              "    display: none;\n",
              "    fill: var(--fill-color);\n",
              "    height: 32px;\n",
              "    padding: 0;\n",
              "    width: 32px;\n",
              "  }\n",
              "\n",
              "  .colab-df-quickchart:hover {\n",
              "    background-color: var(--hover-bg-color);\n",
              "    box-shadow: 0 1px 2px rgba(60, 64, 67, 0.3), 0 1px 3px 1px rgba(60, 64, 67, 0.15);\n",
              "    fill: var(--button-hover-fill-color);\n",
              "  }\n",
              "\n",
              "  .colab-df-quickchart-complete:disabled,\n",
              "  .colab-df-quickchart-complete:disabled:hover {\n",
              "    background-color: var(--disabled-bg-color);\n",
              "    fill: var(--disabled-fill-color);\n",
              "    box-shadow: none;\n",
              "  }\n",
              "\n",
              "  .colab-df-spinner {\n",
              "    border: 2px solid var(--fill-color);\n",
              "    border-color: transparent;\n",
              "    border-bottom-color: var(--fill-color);\n",
              "    animation:\n",
              "      spin 1s steps(1) infinite;\n",
              "  }\n",
              "\n",
              "  @keyframes spin {\n",
              "    0% {\n",
              "      border-color: transparent;\n",
              "      border-bottom-color: var(--fill-color);\n",
              "      border-left-color: var(--fill-color);\n",
              "    }\n",
              "    20% {\n",
              "      border-color: transparent;\n",
              "      border-left-color: var(--fill-color);\n",
              "      border-top-color: var(--fill-color);\n",
              "    }\n",
              "    30% {\n",
              "      border-color: transparent;\n",
              "      border-left-color: var(--fill-color);\n",
              "      border-top-color: var(--fill-color);\n",
              "      border-right-color: var(--fill-color);\n",
              "    }\n",
              "    40% {\n",
              "      border-color: transparent;\n",
              "      border-right-color: var(--fill-color);\n",
              "      border-top-color: var(--fill-color);\n",
              "    }\n",
              "    60% {\n",
              "      border-color: transparent;\n",
              "      border-right-color: var(--fill-color);\n",
              "    }\n",
              "    80% {\n",
              "      border-color: transparent;\n",
              "      border-right-color: var(--fill-color);\n",
              "      border-bottom-color: var(--fill-color);\n",
              "    }\n",
              "    90% {\n",
              "      border-color: transparent;\n",
              "      border-bottom-color: var(--fill-color);\n",
              "    }\n",
              "  }\n",
              "</style>\n",
              "\n",
              "  <script>\n",
              "    async function quickchart(key) {\n",
              "      const quickchartButtonEl =\n",
              "        document.querySelector('#' + key + ' button');\n",
              "      quickchartButtonEl.disabled = true;  // To prevent multiple clicks.\n",
              "      quickchartButtonEl.classList.add('colab-df-spinner');\n",
              "      try {\n",
              "        const charts = await google.colab.kernel.invokeFunction(\n",
              "            'suggestCharts', [key], {});\n",
              "      } catch (error) {\n",
              "        console.error('Error during call to suggestCharts:', error);\n",
              "      }\n",
              "      quickchartButtonEl.classList.remove('colab-df-spinner');\n",
              "      quickchartButtonEl.classList.add('colab-df-quickchart-complete');\n",
              "    }\n",
              "    (() => {\n",
              "      let quickchartButtonEl =\n",
              "        document.querySelector('#df-34868ca3-0a96-4a92-bc99-48ffc2677358 button');\n",
              "      quickchartButtonEl.style.display =\n",
              "        google.colab.kernel.accessAllowed ? 'block' : 'none';\n",
              "    })();\n",
              "  </script>\n",
              "</div>\n",
              "\n",
              "    </div>\n",
              "  </div>\n"
            ],
            "application/vnd.google.colaboratory.intrinsic+json": {
              "type": "dataframe",
              "variable_name": "df"
            }
          },
          "metadata": {},
          "execution_count": 59
        }
      ]
    },
    {
      "cell_type": "code",
      "source": [
        "df.dtypes"
      ],
      "metadata": {
        "colab": {
          "base_uri": "https://localhost:8080/"
        },
        "id": "b04-uP9toJsW",
        "outputId": "740ca346-711a-420c-a2a6-18c223146604"
      },
      "execution_count": 60,
      "outputs": [
        {
          "output_type": "execute_result",
          "data": {
            "text/plain": [
              "Id                  int64\n",
              "ActivityDay        object\n",
              "ActivityMinute     object\n",
              "METs                int64\n",
              "Calories          float64\n",
              "Intensity           int64\n",
              "Sleep               int64\n",
              "Steps               int64\n",
              "dtype: object"
            ]
          },
          "metadata": {},
          "execution_count": 60
        }
      ]
    },
    {
      "cell_type": "code",
      "source": [
        "df.describe()"
      ],
      "metadata": {
        "colab": {
          "base_uri": "https://localhost:8080/",
          "height": 300
        },
        "id": "-c2EJ9Aniyo5",
        "outputId": "a2aaed24-fcf8-4dd6-f490-e88513229e8c"
      },
      "execution_count": 61,
      "outputs": [
        {
          "output_type": "execute_result",
          "data": {
            "text/plain": [
              "                 Id          METs      Calories     Intensity         Sleep  \\\n",
              "count  1.326123e+06  1.326123e+06  1.326123e+06  1.326123e+06  1.326123e+06   \n",
              "mean   4.847838e+09  1.468814e+01  1.623045e+00  2.005123e-01  1.044209e-01   \n",
              "std    2.421819e+09  1.205330e+01  1.410166e+00  5.189327e-01  3.387419e-01   \n",
              "min    1.503960e+09  0.000000e+00  0.000000e+00  0.000000e+00  0.000000e+00   \n",
              "25%    2.320127e+09  1.000000e+01  9.357000e-01  0.000000e+00  0.000000e+00   \n",
              "50%    4.445115e+09  1.000000e+01  1.217600e+00  0.000000e+00  0.000000e+00   \n",
              "75%    6.962181e+09  1.100000e+01  1.432700e+00  0.000000e+00  0.000000e+00   \n",
              "max    8.877689e+09  1.570000e+02  1.974995e+01  3.000000e+00  3.000000e+00   \n",
              "\n",
              "              Steps  \n",
              "count  1.326123e+06  \n",
              "mean   5.334013e+00  \n",
              "std    1.812491e+01  \n",
              "min    0.000000e+00  \n",
              "25%    0.000000e+00  \n",
              "50%    0.000000e+00  \n",
              "75%    0.000000e+00  \n",
              "max    2.200000e+02  "
            ],
            "text/html": [
              "\n",
              "  <div id=\"df-c69b928c-3a6f-486c-9fca-c8a8723b884c\" class=\"colab-df-container\">\n",
              "    <div>\n",
              "<style scoped>\n",
              "    .dataframe tbody tr th:only-of-type {\n",
              "        vertical-align: middle;\n",
              "    }\n",
              "\n",
              "    .dataframe tbody tr th {\n",
              "        vertical-align: top;\n",
              "    }\n",
              "\n",
              "    .dataframe thead th {\n",
              "        text-align: right;\n",
              "    }\n",
              "</style>\n",
              "<table border=\"1\" class=\"dataframe\">\n",
              "  <thead>\n",
              "    <tr style=\"text-align: right;\">\n",
              "      <th></th>\n",
              "      <th>Id</th>\n",
              "      <th>METs</th>\n",
              "      <th>Calories</th>\n",
              "      <th>Intensity</th>\n",
              "      <th>Sleep</th>\n",
              "      <th>Steps</th>\n",
              "    </tr>\n",
              "  </thead>\n",
              "  <tbody>\n",
              "    <tr>\n",
              "      <th>count</th>\n",
              "      <td>1.326123e+06</td>\n",
              "      <td>1.326123e+06</td>\n",
              "      <td>1.326123e+06</td>\n",
              "      <td>1.326123e+06</td>\n",
              "      <td>1.326123e+06</td>\n",
              "      <td>1.326123e+06</td>\n",
              "    </tr>\n",
              "    <tr>\n",
              "      <th>mean</th>\n",
              "      <td>4.847838e+09</td>\n",
              "      <td>1.468814e+01</td>\n",
              "      <td>1.623045e+00</td>\n",
              "      <td>2.005123e-01</td>\n",
              "      <td>1.044209e-01</td>\n",
              "      <td>5.334013e+00</td>\n",
              "    </tr>\n",
              "    <tr>\n",
              "      <th>std</th>\n",
              "      <td>2.421819e+09</td>\n",
              "      <td>1.205330e+01</td>\n",
              "      <td>1.410166e+00</td>\n",
              "      <td>5.189327e-01</td>\n",
              "      <td>3.387419e-01</td>\n",
              "      <td>1.812491e+01</td>\n",
              "    </tr>\n",
              "    <tr>\n",
              "      <th>min</th>\n",
              "      <td>1.503960e+09</td>\n",
              "      <td>0.000000e+00</td>\n",
              "      <td>0.000000e+00</td>\n",
              "      <td>0.000000e+00</td>\n",
              "      <td>0.000000e+00</td>\n",
              "      <td>0.000000e+00</td>\n",
              "    </tr>\n",
              "    <tr>\n",
              "      <th>25%</th>\n",
              "      <td>2.320127e+09</td>\n",
              "      <td>1.000000e+01</td>\n",
              "      <td>9.357000e-01</td>\n",
              "      <td>0.000000e+00</td>\n",
              "      <td>0.000000e+00</td>\n",
              "      <td>0.000000e+00</td>\n",
              "    </tr>\n",
              "    <tr>\n",
              "      <th>50%</th>\n",
              "      <td>4.445115e+09</td>\n",
              "      <td>1.000000e+01</td>\n",
              "      <td>1.217600e+00</td>\n",
              "      <td>0.000000e+00</td>\n",
              "      <td>0.000000e+00</td>\n",
              "      <td>0.000000e+00</td>\n",
              "    </tr>\n",
              "    <tr>\n",
              "      <th>75%</th>\n",
              "      <td>6.962181e+09</td>\n",
              "      <td>1.100000e+01</td>\n",
              "      <td>1.432700e+00</td>\n",
              "      <td>0.000000e+00</td>\n",
              "      <td>0.000000e+00</td>\n",
              "      <td>0.000000e+00</td>\n",
              "    </tr>\n",
              "    <tr>\n",
              "      <th>max</th>\n",
              "      <td>8.877689e+09</td>\n",
              "      <td>1.570000e+02</td>\n",
              "      <td>1.974995e+01</td>\n",
              "      <td>3.000000e+00</td>\n",
              "      <td>3.000000e+00</td>\n",
              "      <td>2.200000e+02</td>\n",
              "    </tr>\n",
              "  </tbody>\n",
              "</table>\n",
              "</div>\n",
              "    <div class=\"colab-df-buttons\">\n",
              "\n",
              "  <div class=\"colab-df-container\">\n",
              "    <button class=\"colab-df-convert\" onclick=\"convertToInteractive('df-c69b928c-3a6f-486c-9fca-c8a8723b884c')\"\n",
              "            title=\"Convert this dataframe to an interactive table.\"\n",
              "            style=\"display:none;\">\n",
              "\n",
              "  <svg xmlns=\"http://www.w3.org/2000/svg\" height=\"24px\" viewBox=\"0 -960 960 960\">\n",
              "    <path d=\"M120-120v-720h720v720H120Zm60-500h600v-160H180v160Zm220 220h160v-160H400v160Zm0 220h160v-160H400v160ZM180-400h160v-160H180v160Zm440 0h160v-160H620v160ZM180-180h160v-160H180v160Zm440 0h160v-160H620v160Z\"/>\n",
              "  </svg>\n",
              "    </button>\n",
              "\n",
              "  <style>\n",
              "    .colab-df-container {\n",
              "      display:flex;\n",
              "      gap: 12px;\n",
              "    }\n",
              "\n",
              "    .colab-df-convert {\n",
              "      background-color: #E8F0FE;\n",
              "      border: none;\n",
              "      border-radius: 50%;\n",
              "      cursor: pointer;\n",
              "      display: none;\n",
              "      fill: #1967D2;\n",
              "      height: 32px;\n",
              "      padding: 0 0 0 0;\n",
              "      width: 32px;\n",
              "    }\n",
              "\n",
              "    .colab-df-convert:hover {\n",
              "      background-color: #E2EBFA;\n",
              "      box-shadow: 0px 1px 2px rgba(60, 64, 67, 0.3), 0px 1px 3px 1px rgba(60, 64, 67, 0.15);\n",
              "      fill: #174EA6;\n",
              "    }\n",
              "\n",
              "    .colab-df-buttons div {\n",
              "      margin-bottom: 4px;\n",
              "    }\n",
              "\n",
              "    [theme=dark] .colab-df-convert {\n",
              "      background-color: #3B4455;\n",
              "      fill: #D2E3FC;\n",
              "    }\n",
              "\n",
              "    [theme=dark] .colab-df-convert:hover {\n",
              "      background-color: #434B5C;\n",
              "      box-shadow: 0px 1px 3px 1px rgba(0, 0, 0, 0.15);\n",
              "      filter: drop-shadow(0px 1px 2px rgba(0, 0, 0, 0.3));\n",
              "      fill: #FFFFFF;\n",
              "    }\n",
              "  </style>\n",
              "\n",
              "    <script>\n",
              "      const buttonEl =\n",
              "        document.querySelector('#df-c69b928c-3a6f-486c-9fca-c8a8723b884c button.colab-df-convert');\n",
              "      buttonEl.style.display =\n",
              "        google.colab.kernel.accessAllowed ? 'block' : 'none';\n",
              "\n",
              "      async function convertToInteractive(key) {\n",
              "        const element = document.querySelector('#df-c69b928c-3a6f-486c-9fca-c8a8723b884c');\n",
              "        const dataTable =\n",
              "          await google.colab.kernel.invokeFunction('convertToInteractive',\n",
              "                                                    [key], {});\n",
              "        if (!dataTable) return;\n",
              "\n",
              "        const docLinkHtml = 'Like what you see? Visit the ' +\n",
              "          '<a target=\"_blank\" href=https://colab.research.google.com/notebooks/data_table.ipynb>data table notebook</a>'\n",
              "          + ' to learn more about interactive tables.';\n",
              "        element.innerHTML = '';\n",
              "        dataTable['output_type'] = 'display_data';\n",
              "        await google.colab.output.renderOutput(dataTable, element);\n",
              "        const docLink = document.createElement('div');\n",
              "        docLink.innerHTML = docLinkHtml;\n",
              "        element.appendChild(docLink);\n",
              "      }\n",
              "    </script>\n",
              "  </div>\n",
              "\n",
              "\n",
              "<div id=\"df-421c19f8-9575-4889-a6a5-abe018cf6c1f\">\n",
              "  <button class=\"colab-df-quickchart\" onclick=\"quickchart('df-421c19f8-9575-4889-a6a5-abe018cf6c1f')\"\n",
              "            title=\"Suggest charts\"\n",
              "            style=\"display:none;\">\n",
              "\n",
              "<svg xmlns=\"http://www.w3.org/2000/svg\" height=\"24px\"viewBox=\"0 0 24 24\"\n",
              "     width=\"24px\">\n",
              "    <g>\n",
              "        <path d=\"M19 3H5c-1.1 0-2 .9-2 2v14c0 1.1.9 2 2 2h14c1.1 0 2-.9 2-2V5c0-1.1-.9-2-2-2zM9 17H7v-7h2v7zm4 0h-2V7h2v10zm4 0h-2v-4h2v4z\"/>\n",
              "    </g>\n",
              "</svg>\n",
              "  </button>\n",
              "\n",
              "<style>\n",
              "  .colab-df-quickchart {\n",
              "      --bg-color: #E8F0FE;\n",
              "      --fill-color: #1967D2;\n",
              "      --hover-bg-color: #E2EBFA;\n",
              "      --hover-fill-color: #174EA6;\n",
              "      --disabled-fill-color: #AAA;\n",
              "      --disabled-bg-color: #DDD;\n",
              "  }\n",
              "\n",
              "  [theme=dark] .colab-df-quickchart {\n",
              "      --bg-color: #3B4455;\n",
              "      --fill-color: #D2E3FC;\n",
              "      --hover-bg-color: #434B5C;\n",
              "      --hover-fill-color: #FFFFFF;\n",
              "      --disabled-bg-color: #3B4455;\n",
              "      --disabled-fill-color: #666;\n",
              "  }\n",
              "\n",
              "  .colab-df-quickchart {\n",
              "    background-color: var(--bg-color);\n",
              "    border: none;\n",
              "    border-radius: 50%;\n",
              "    cursor: pointer;\n",
              "    display: none;\n",
              "    fill: var(--fill-color);\n",
              "    height: 32px;\n",
              "    padding: 0;\n",
              "    width: 32px;\n",
              "  }\n",
              "\n",
              "  .colab-df-quickchart:hover {\n",
              "    background-color: var(--hover-bg-color);\n",
              "    box-shadow: 0 1px 2px rgba(60, 64, 67, 0.3), 0 1px 3px 1px rgba(60, 64, 67, 0.15);\n",
              "    fill: var(--button-hover-fill-color);\n",
              "  }\n",
              "\n",
              "  .colab-df-quickchart-complete:disabled,\n",
              "  .colab-df-quickchart-complete:disabled:hover {\n",
              "    background-color: var(--disabled-bg-color);\n",
              "    fill: var(--disabled-fill-color);\n",
              "    box-shadow: none;\n",
              "  }\n",
              "\n",
              "  .colab-df-spinner {\n",
              "    border: 2px solid var(--fill-color);\n",
              "    border-color: transparent;\n",
              "    border-bottom-color: var(--fill-color);\n",
              "    animation:\n",
              "      spin 1s steps(1) infinite;\n",
              "  }\n",
              "\n",
              "  @keyframes spin {\n",
              "    0% {\n",
              "      border-color: transparent;\n",
              "      border-bottom-color: var(--fill-color);\n",
              "      border-left-color: var(--fill-color);\n",
              "    }\n",
              "    20% {\n",
              "      border-color: transparent;\n",
              "      border-left-color: var(--fill-color);\n",
              "      border-top-color: var(--fill-color);\n",
              "    }\n",
              "    30% {\n",
              "      border-color: transparent;\n",
              "      border-left-color: var(--fill-color);\n",
              "      border-top-color: var(--fill-color);\n",
              "      border-right-color: var(--fill-color);\n",
              "    }\n",
              "    40% {\n",
              "      border-color: transparent;\n",
              "      border-right-color: var(--fill-color);\n",
              "      border-top-color: var(--fill-color);\n",
              "    }\n",
              "    60% {\n",
              "      border-color: transparent;\n",
              "      border-right-color: var(--fill-color);\n",
              "    }\n",
              "    80% {\n",
              "      border-color: transparent;\n",
              "      border-right-color: var(--fill-color);\n",
              "      border-bottom-color: var(--fill-color);\n",
              "    }\n",
              "    90% {\n",
              "      border-color: transparent;\n",
              "      border-bottom-color: var(--fill-color);\n",
              "    }\n",
              "  }\n",
              "</style>\n",
              "\n",
              "  <script>\n",
              "    async function quickchart(key) {\n",
              "      const quickchartButtonEl =\n",
              "        document.querySelector('#' + key + ' button');\n",
              "      quickchartButtonEl.disabled = true;  // To prevent multiple clicks.\n",
              "      quickchartButtonEl.classList.add('colab-df-spinner');\n",
              "      try {\n",
              "        const charts = await google.colab.kernel.invokeFunction(\n",
              "            'suggestCharts', [key], {});\n",
              "      } catch (error) {\n",
              "        console.error('Error during call to suggestCharts:', error);\n",
              "      }\n",
              "      quickchartButtonEl.classList.remove('colab-df-spinner');\n",
              "      quickchartButtonEl.classList.add('colab-df-quickchart-complete');\n",
              "    }\n",
              "    (() => {\n",
              "      let quickchartButtonEl =\n",
              "        document.querySelector('#df-421c19f8-9575-4889-a6a5-abe018cf6c1f button');\n",
              "      quickchartButtonEl.style.display =\n",
              "        google.colab.kernel.accessAllowed ? 'block' : 'none';\n",
              "    })();\n",
              "  </script>\n",
              "</div>\n",
              "\n",
              "    </div>\n",
              "  </div>\n"
            ],
            "application/vnd.google.colaboratory.intrinsic+json": {
              "type": "dataframe",
              "summary": "{\n  \"name\": \"df\",\n  \"rows\": 8,\n  \"fields\": [\n    {\n      \"column\": \"Id\",\n      \"properties\": {\n        \"dtype\": \"number\",\n        \"std\": 2951210925.671594,\n        \"min\": 1326123.0,\n        \"max\": 8877689391.0,\n        \"num_unique_values\": 8,\n        \"samples\": [\n          4847838329.368099,\n          4445114986.0,\n          1326123.0\n        ],\n        \"semantic_type\": \"\",\n        \"description\": \"\"\n      }\n    },\n    {\n      \"column\": \"METs\",\n      \"properties\": {\n        \"dtype\": \"number\",\n        \"std\": 468844.4397686285,\n        \"min\": 0.0,\n        \"max\": 1326123.0,\n        \"num_unique_values\": 7,\n        \"samples\": [\n          1326123.0,\n          14.68813752570463,\n          11.0\n        ],\n        \"semantic_type\": \"\",\n        \"description\": \"\"\n      }\n    },\n    {\n      \"column\": \"Calories\",\n      \"properties\": {\n        \"dtype\": \"number\",\n        \"std\": 468853.95119580184,\n        \"min\": 0.0,\n        \"max\": 1326123.0,\n        \"num_unique_values\": 8,\n        \"samples\": [\n          1.623045025797092,\n          1.2175999879837,\n          1326123.0\n        ],\n        \"semantic_type\": \"\",\n        \"description\": \"\"\n      }\n    },\n    {\n      \"column\": \"Intensity\",\n      \"properties\": {\n        \"dtype\": \"number\",\n        \"std\": 468855.09513449646,\n        \"min\": 0.0,\n        \"max\": 1326123.0,\n        \"num_unique_values\": 5,\n        \"samples\": [\n          0.2005123205011903,\n          3.0,\n          0.5189327416439408\n        ],\n        \"semantic_type\": \"\",\n        \"description\": \"\"\n      }\n    },\n    {\n      \"column\": \"Sleep\",\n      \"properties\": {\n        \"dtype\": \"number\",\n        \"std\": 468855.10908887046,\n        \"min\": 0.0,\n        \"max\": 1326123.0,\n        \"num_unique_values\": 5,\n        \"samples\": [\n          0.10442093229662709,\n          3.0,\n          0.33874191911520174\n        ],\n        \"semantic_type\": \"\",\n        \"description\": \"\"\n      }\n    },\n    {\n      \"column\": \"Steps\",\n      \"properties\": {\n        \"dtype\": \"number\",\n        \"std\": 468842.9925992351,\n        \"min\": 0.0,\n        \"max\": 1326123.0,\n        \"num_unique_values\": 5,\n        \"samples\": [\n          5.334012757489313,\n          220.0,\n          18.124912132798176\n        ],\n        \"semantic_type\": \"\",\n        \"description\": \"\"\n      }\n    }\n  ]\n}"
            }
          },
          "metadata": {},
          "execution_count": 61
        }
      ]
    },
    {
      "cell_type": "code",
      "source": [
        "df.isna().sum()"
      ],
      "metadata": {
        "colab": {
          "base_uri": "https://localhost:8080/"
        },
        "id": "YOwY2hKOi0qn",
        "outputId": "734d03d3-bcc2-4f77-9da3-9072e76299b5"
      },
      "execution_count": 62,
      "outputs": [
        {
          "output_type": "execute_result",
          "data": {
            "text/plain": [
              "Id                0\n",
              "ActivityDay       0\n",
              "ActivityMinute    0\n",
              "METs              0\n",
              "Calories          0\n",
              "Intensity         0\n",
              "Sleep             0\n",
              "Steps             0\n",
              "dtype: int64"
            ]
          },
          "metadata": {},
          "execution_count": 62
        }
      ]
    },
    {
      "cell_type": "code",
      "source": [
        "df.columns"
      ],
      "metadata": {
        "colab": {
          "base_uri": "https://localhost:8080/"
        },
        "id": "6uUw97jUlhJJ",
        "outputId": "0b846eed-4673-49cf-edcc-74312f3e312a"
      },
      "execution_count": 63,
      "outputs": [
        {
          "output_type": "execute_result",
          "data": {
            "text/plain": [
              "Index(['Id', 'ActivityDay', 'ActivityMinute', 'METs', 'Calories', 'Intensity',\n",
              "       'Sleep', 'Steps'],\n",
              "      dtype='object')"
            ]
          },
          "metadata": {},
          "execution_count": 63
        }
      ]
    },
    {
      "cell_type": "markdown",
      "source": [
        "Naming The Values"
      ],
      "metadata": {
        "id": "s9Phz9UQoFsQ"
      }
    },
    {
      "cell_type": "code",
      "source": [
        "df2 = pd.read_csv('/content/Indian-Female-Names.csv')"
      ],
      "metadata": {
        "id": "IkSSjNzvl7IP"
      },
      "execution_count": 64,
      "outputs": []
    },
    {
      "cell_type": "code",
      "source": [
        "import pandas as pd\n",
        "import random\n",
        "\n",
        "names = df2['name'].unique()\n",
        "assert len(names) >= 33, \"You need at least 33 unique names in 'df2'.\"\n",
        "selected_names = names[:33]\n",
        "mapping_dict = dict(zip(df['Id'].unique(), selected_names))\n",
        "df['Name'] = df['Id'].map(mapping_dict)\n",
        "print(df.head())\n"
      ],
      "metadata": {
        "colab": {
          "base_uri": "https://localhost:8080/"
        },
        "id": "KsapMEjrmTME",
        "outputId": "5db37bf2-325a-479e-ae99-9276ab7e52a4"
      },
      "execution_count": 65,
      "outputs": [
        {
          "output_type": "stream",
          "name": "stdout",
          "text": [
            "           Id ActivityDay ActivityMinute  METs  Calories  Intensity  Sleep  \\\n",
            "0  1503960366  01-05-2016       00:00:00    10    0.7865          0      0   \n",
            "1  1503960366  01-05-2016       00:01:00    12    0.9438          0      0   \n",
            "2  1503960366  01-05-2016       00:02:00    38    2.9887          1      0   \n",
            "3  1503960366  01-05-2016       00:03:00    44    3.4606          1      0   \n",
            "4  1503960366  01-05-2016       00:04:00    30    2.3595          1      0   \n",
            "\n",
            "   Steps     Name  \n",
            "0      0  shivani  \n",
            "1      0  shivani  \n",
            "2     50  shivani  \n",
            "3     67  shivani  \n",
            "4     25  shivani  \n"
          ]
        }
      ]
    },
    {
      "cell_type": "code",
      "source": [
        "df['ActivityDay'] = pd.to_datetime(df['ActivityDay'])\n"
      ],
      "metadata": {
        "colab": {
          "base_uri": "https://localhost:8080/"
        },
        "id": "2X4CTU_Apnci",
        "outputId": "234f56dc-54ed-4f79-cc7f-8632137e7566"
      },
      "execution_count": 66,
      "outputs": [
        {
          "output_type": "stream",
          "name": "stderr",
          "text": [
            "<ipython-input-66-e86044d8827d>:1: UserWarning:\n",
            "\n",
            "Parsing dates in DD/MM/YYYY format when dayfirst=False (the default) was specified. This may lead to inconsistently parsed dates! Specify a format to ensure consistent parsing.\n",
            "\n"
          ]
        }
      ]
    },
    {
      "cell_type": "markdown",
      "source": [
        "Rearranging Data"
      ],
      "metadata": {
        "id": "-YE31bR3oCIs"
      }
    },
    {
      "cell_type": "code",
      "source": [
        "# Reorder the columns and add the 'Name' column after 'Id'\n",
        "column_order = ['Id', 'Name', 'ActivityDay', 'ActivityMinute', 'METs', 'Calories', 'Intensity', 'Sleep', 'Steps']\n",
        "df = df.reindex(columns=column_order)\n"
      ],
      "metadata": {
        "id": "iVdqiGztmYwd"
      },
      "execution_count": 67,
      "outputs": []
    },
    {
      "cell_type": "code",
      "source": [
        "df.head()"
      ],
      "metadata": {
        "colab": {
          "base_uri": "https://localhost:8080/",
          "height": 206
        },
        "id": "wNzErKB7mrH7",
        "outputId": "95afa924-68e4-4688-a50f-49588e9fb087"
      },
      "execution_count": 68,
      "outputs": [
        {
          "output_type": "execute_result",
          "data": {
            "text/plain": [
              "           Id     Name ActivityDay ActivityMinute  METs  Calories  Intensity  \\\n",
              "0  1503960366  shivani  2016-01-05       00:00:00    10    0.7865          0   \n",
              "1  1503960366  shivani  2016-01-05       00:01:00    12    0.9438          0   \n",
              "2  1503960366  shivani  2016-01-05       00:02:00    38    2.9887          1   \n",
              "3  1503960366  shivani  2016-01-05       00:03:00    44    3.4606          1   \n",
              "4  1503960366  shivani  2016-01-05       00:04:00    30    2.3595          1   \n",
              "\n",
              "   Sleep  Steps  \n",
              "0      0      0  \n",
              "1      0      0  \n",
              "2      0     50  \n",
              "3      0     67  \n",
              "4      0     25  "
            ],
            "text/html": [
              "\n",
              "  <div id=\"df-a78784d6-ac96-4ae9-bbc1-fa8ced3a54b1\" class=\"colab-df-container\">\n",
              "    <div>\n",
              "<style scoped>\n",
              "    .dataframe tbody tr th:only-of-type {\n",
              "        vertical-align: middle;\n",
              "    }\n",
              "\n",
              "    .dataframe tbody tr th {\n",
              "        vertical-align: top;\n",
              "    }\n",
              "\n",
              "    .dataframe thead th {\n",
              "        text-align: right;\n",
              "    }\n",
              "</style>\n",
              "<table border=\"1\" class=\"dataframe\">\n",
              "  <thead>\n",
              "    <tr style=\"text-align: right;\">\n",
              "      <th></th>\n",
              "      <th>Id</th>\n",
              "      <th>Name</th>\n",
              "      <th>ActivityDay</th>\n",
              "      <th>ActivityMinute</th>\n",
              "      <th>METs</th>\n",
              "      <th>Calories</th>\n",
              "      <th>Intensity</th>\n",
              "      <th>Sleep</th>\n",
              "      <th>Steps</th>\n",
              "    </tr>\n",
              "  </thead>\n",
              "  <tbody>\n",
              "    <tr>\n",
              "      <th>0</th>\n",
              "      <td>1503960366</td>\n",
              "      <td>shivani</td>\n",
              "      <td>2016-01-05</td>\n",
              "      <td>00:00:00</td>\n",
              "      <td>10</td>\n",
              "      <td>0.7865</td>\n",
              "      <td>0</td>\n",
              "      <td>0</td>\n",
              "      <td>0</td>\n",
              "    </tr>\n",
              "    <tr>\n",
              "      <th>1</th>\n",
              "      <td>1503960366</td>\n",
              "      <td>shivani</td>\n",
              "      <td>2016-01-05</td>\n",
              "      <td>00:01:00</td>\n",
              "      <td>12</td>\n",
              "      <td>0.9438</td>\n",
              "      <td>0</td>\n",
              "      <td>0</td>\n",
              "      <td>0</td>\n",
              "    </tr>\n",
              "    <tr>\n",
              "      <th>2</th>\n",
              "      <td>1503960366</td>\n",
              "      <td>shivani</td>\n",
              "      <td>2016-01-05</td>\n",
              "      <td>00:02:00</td>\n",
              "      <td>38</td>\n",
              "      <td>2.9887</td>\n",
              "      <td>1</td>\n",
              "      <td>0</td>\n",
              "      <td>50</td>\n",
              "    </tr>\n",
              "    <tr>\n",
              "      <th>3</th>\n",
              "      <td>1503960366</td>\n",
              "      <td>shivani</td>\n",
              "      <td>2016-01-05</td>\n",
              "      <td>00:03:00</td>\n",
              "      <td>44</td>\n",
              "      <td>3.4606</td>\n",
              "      <td>1</td>\n",
              "      <td>0</td>\n",
              "      <td>67</td>\n",
              "    </tr>\n",
              "    <tr>\n",
              "      <th>4</th>\n",
              "      <td>1503960366</td>\n",
              "      <td>shivani</td>\n",
              "      <td>2016-01-05</td>\n",
              "      <td>00:04:00</td>\n",
              "      <td>30</td>\n",
              "      <td>2.3595</td>\n",
              "      <td>1</td>\n",
              "      <td>0</td>\n",
              "      <td>25</td>\n",
              "    </tr>\n",
              "  </tbody>\n",
              "</table>\n",
              "</div>\n",
              "    <div class=\"colab-df-buttons\">\n",
              "\n",
              "  <div class=\"colab-df-container\">\n",
              "    <button class=\"colab-df-convert\" onclick=\"convertToInteractive('df-a78784d6-ac96-4ae9-bbc1-fa8ced3a54b1')\"\n",
              "            title=\"Convert this dataframe to an interactive table.\"\n",
              "            style=\"display:none;\">\n",
              "\n",
              "  <svg xmlns=\"http://www.w3.org/2000/svg\" height=\"24px\" viewBox=\"0 -960 960 960\">\n",
              "    <path d=\"M120-120v-720h720v720H120Zm60-500h600v-160H180v160Zm220 220h160v-160H400v160Zm0 220h160v-160H400v160ZM180-400h160v-160H180v160Zm440 0h160v-160H620v160ZM180-180h160v-160H180v160Zm440 0h160v-160H620v160Z\"/>\n",
              "  </svg>\n",
              "    </button>\n",
              "\n",
              "  <style>\n",
              "    .colab-df-container {\n",
              "      display:flex;\n",
              "      gap: 12px;\n",
              "    }\n",
              "\n",
              "    .colab-df-convert {\n",
              "      background-color: #E8F0FE;\n",
              "      border: none;\n",
              "      border-radius: 50%;\n",
              "      cursor: pointer;\n",
              "      display: none;\n",
              "      fill: #1967D2;\n",
              "      height: 32px;\n",
              "      padding: 0 0 0 0;\n",
              "      width: 32px;\n",
              "    }\n",
              "\n",
              "    .colab-df-convert:hover {\n",
              "      background-color: #E2EBFA;\n",
              "      box-shadow: 0px 1px 2px rgba(60, 64, 67, 0.3), 0px 1px 3px 1px rgba(60, 64, 67, 0.15);\n",
              "      fill: #174EA6;\n",
              "    }\n",
              "\n",
              "    .colab-df-buttons div {\n",
              "      margin-bottom: 4px;\n",
              "    }\n",
              "\n",
              "    [theme=dark] .colab-df-convert {\n",
              "      background-color: #3B4455;\n",
              "      fill: #D2E3FC;\n",
              "    }\n",
              "\n",
              "    [theme=dark] .colab-df-convert:hover {\n",
              "      background-color: #434B5C;\n",
              "      box-shadow: 0px 1px 3px 1px rgba(0, 0, 0, 0.15);\n",
              "      filter: drop-shadow(0px 1px 2px rgba(0, 0, 0, 0.3));\n",
              "      fill: #FFFFFF;\n",
              "    }\n",
              "  </style>\n",
              "\n",
              "    <script>\n",
              "      const buttonEl =\n",
              "        document.querySelector('#df-a78784d6-ac96-4ae9-bbc1-fa8ced3a54b1 button.colab-df-convert');\n",
              "      buttonEl.style.display =\n",
              "        google.colab.kernel.accessAllowed ? 'block' : 'none';\n",
              "\n",
              "      async function convertToInteractive(key) {\n",
              "        const element = document.querySelector('#df-a78784d6-ac96-4ae9-bbc1-fa8ced3a54b1');\n",
              "        const dataTable =\n",
              "          await google.colab.kernel.invokeFunction('convertToInteractive',\n",
              "                                                    [key], {});\n",
              "        if (!dataTable) return;\n",
              "\n",
              "        const docLinkHtml = 'Like what you see? Visit the ' +\n",
              "          '<a target=\"_blank\" href=https://colab.research.google.com/notebooks/data_table.ipynb>data table notebook</a>'\n",
              "          + ' to learn more about interactive tables.';\n",
              "        element.innerHTML = '';\n",
              "        dataTable['output_type'] = 'display_data';\n",
              "        await google.colab.output.renderOutput(dataTable, element);\n",
              "        const docLink = document.createElement('div');\n",
              "        docLink.innerHTML = docLinkHtml;\n",
              "        element.appendChild(docLink);\n",
              "      }\n",
              "    </script>\n",
              "  </div>\n",
              "\n",
              "\n",
              "<div id=\"df-89227c40-4da5-4d9c-835e-78e078da2e34\">\n",
              "  <button class=\"colab-df-quickchart\" onclick=\"quickchart('df-89227c40-4da5-4d9c-835e-78e078da2e34')\"\n",
              "            title=\"Suggest charts\"\n",
              "            style=\"display:none;\">\n",
              "\n",
              "<svg xmlns=\"http://www.w3.org/2000/svg\" height=\"24px\"viewBox=\"0 0 24 24\"\n",
              "     width=\"24px\">\n",
              "    <g>\n",
              "        <path d=\"M19 3H5c-1.1 0-2 .9-2 2v14c0 1.1.9 2 2 2h14c1.1 0 2-.9 2-2V5c0-1.1-.9-2-2-2zM9 17H7v-7h2v7zm4 0h-2V7h2v10zm4 0h-2v-4h2v4z\"/>\n",
              "    </g>\n",
              "</svg>\n",
              "  </button>\n",
              "\n",
              "<style>\n",
              "  .colab-df-quickchart {\n",
              "      --bg-color: #E8F0FE;\n",
              "      --fill-color: #1967D2;\n",
              "      --hover-bg-color: #E2EBFA;\n",
              "      --hover-fill-color: #174EA6;\n",
              "      --disabled-fill-color: #AAA;\n",
              "      --disabled-bg-color: #DDD;\n",
              "  }\n",
              "\n",
              "  [theme=dark] .colab-df-quickchart {\n",
              "      --bg-color: #3B4455;\n",
              "      --fill-color: #D2E3FC;\n",
              "      --hover-bg-color: #434B5C;\n",
              "      --hover-fill-color: #FFFFFF;\n",
              "      --disabled-bg-color: #3B4455;\n",
              "      --disabled-fill-color: #666;\n",
              "  }\n",
              "\n",
              "  .colab-df-quickchart {\n",
              "    background-color: var(--bg-color);\n",
              "    border: none;\n",
              "    border-radius: 50%;\n",
              "    cursor: pointer;\n",
              "    display: none;\n",
              "    fill: var(--fill-color);\n",
              "    height: 32px;\n",
              "    padding: 0;\n",
              "    width: 32px;\n",
              "  }\n",
              "\n",
              "  .colab-df-quickchart:hover {\n",
              "    background-color: var(--hover-bg-color);\n",
              "    box-shadow: 0 1px 2px rgba(60, 64, 67, 0.3), 0 1px 3px 1px rgba(60, 64, 67, 0.15);\n",
              "    fill: var(--button-hover-fill-color);\n",
              "  }\n",
              "\n",
              "  .colab-df-quickchart-complete:disabled,\n",
              "  .colab-df-quickchart-complete:disabled:hover {\n",
              "    background-color: var(--disabled-bg-color);\n",
              "    fill: var(--disabled-fill-color);\n",
              "    box-shadow: none;\n",
              "  }\n",
              "\n",
              "  .colab-df-spinner {\n",
              "    border: 2px solid var(--fill-color);\n",
              "    border-color: transparent;\n",
              "    border-bottom-color: var(--fill-color);\n",
              "    animation:\n",
              "      spin 1s steps(1) infinite;\n",
              "  }\n",
              "\n",
              "  @keyframes spin {\n",
              "    0% {\n",
              "      border-color: transparent;\n",
              "      border-bottom-color: var(--fill-color);\n",
              "      border-left-color: var(--fill-color);\n",
              "    }\n",
              "    20% {\n",
              "      border-color: transparent;\n",
              "      border-left-color: var(--fill-color);\n",
              "      border-top-color: var(--fill-color);\n",
              "    }\n",
              "    30% {\n",
              "      border-color: transparent;\n",
              "      border-left-color: var(--fill-color);\n",
              "      border-top-color: var(--fill-color);\n",
              "      border-right-color: var(--fill-color);\n",
              "    }\n",
              "    40% {\n",
              "      border-color: transparent;\n",
              "      border-right-color: var(--fill-color);\n",
              "      border-top-color: var(--fill-color);\n",
              "    }\n",
              "    60% {\n",
              "      border-color: transparent;\n",
              "      border-right-color: var(--fill-color);\n",
              "    }\n",
              "    80% {\n",
              "      border-color: transparent;\n",
              "      border-right-color: var(--fill-color);\n",
              "      border-bottom-color: var(--fill-color);\n",
              "    }\n",
              "    90% {\n",
              "      border-color: transparent;\n",
              "      border-bottom-color: var(--fill-color);\n",
              "    }\n",
              "  }\n",
              "</style>\n",
              "\n",
              "  <script>\n",
              "    async function quickchart(key) {\n",
              "      const quickchartButtonEl =\n",
              "        document.querySelector('#' + key + ' button');\n",
              "      quickchartButtonEl.disabled = true;  // To prevent multiple clicks.\n",
              "      quickchartButtonEl.classList.add('colab-df-spinner');\n",
              "      try {\n",
              "        const charts = await google.colab.kernel.invokeFunction(\n",
              "            'suggestCharts', [key], {});\n",
              "      } catch (error) {\n",
              "        console.error('Error during call to suggestCharts:', error);\n",
              "      }\n",
              "      quickchartButtonEl.classList.remove('colab-df-spinner');\n",
              "      quickchartButtonEl.classList.add('colab-df-quickchart-complete');\n",
              "    }\n",
              "    (() => {\n",
              "      let quickchartButtonEl =\n",
              "        document.querySelector('#df-89227c40-4da5-4d9c-835e-78e078da2e34 button');\n",
              "      quickchartButtonEl.style.display =\n",
              "        google.colab.kernel.accessAllowed ? 'block' : 'none';\n",
              "    })();\n",
              "  </script>\n",
              "</div>\n",
              "\n",
              "    </div>\n",
              "  </div>\n"
            ],
            "application/vnd.google.colaboratory.intrinsic+json": {
              "type": "dataframe",
              "variable_name": "df"
            }
          },
          "metadata": {},
          "execution_count": 68
        }
      ]
    },
    {
      "cell_type": "code",
      "source": [
        "average_sleep_duration = df['Sleep'].mean()\n",
        "print(\"Average Sleep Duration:\", average_sleep_duration, \"minutes\")"
      ],
      "metadata": {
        "colab": {
          "base_uri": "https://localhost:8080/"
        },
        "id": "qZCwGII9sCcX",
        "outputId": "825717c2-270c-445d-fb0b-da2e89e04dd2"
      },
      "execution_count": 69,
      "outputs": [
        {
          "output_type": "stream",
          "name": "stdout",
          "text": [
            "Average Sleep Duration: 0.10442093229662709 minutes\n"
          ]
        }
      ]
    },
    {
      "cell_type": "code",
      "source": [
        "correlation_matrix = df.corr()\n",
        "\n",
        "# Change the colors by specifying a different colormap\n",
        "plt.figure(figsize=(10, 8))\n",
        "sns.heatmap(correlation_matrix, annot=True, cmap='YlGnBu', fmt='.2f')  # Example colormap: Yellow-Green-Blue\n",
        "plt.title('Correlation Matrix')\n",
        "plt.show()"
      ],
      "metadata": {
        "colab": {
          "base_uri": "https://localhost:8080/",
          "height": 788
        },
        "id": "0BAuAZWRsSrV",
        "outputId": "0d6cc5d2-f574-4011-ea18-1358de19d273"
      },
      "execution_count": 70,
      "outputs": [
        {
          "output_type": "stream",
          "name": "stderr",
          "text": [
            "<ipython-input-70-98ee7dd9d8c7>:1: FutureWarning:\n",
            "\n",
            "The default value of numeric_only in DataFrame.corr is deprecated. In a future version, it will default to False. Select only valid columns or specify the value of numeric_only to silence this warning.\n",
            "\n"
          ]
        },
        {
          "output_type": "display_data",
          "data": {
            "text/plain": [
              "<Figure size 1000x800 with 2 Axes>"
            ],
            "image/png": "[encoded data removed]"
          },
          "metadata": {}
        }
      ]
    },
    {
      "cell_type": "code",
      "source": [
        "plt.figure(figsize=(10, 6))\n",
        "plt.scatter(df['Intensity'], df['Calories'], alpha=0.5)\n",
        "plt.title('Activity vs. Calories')\n",
        "plt.xlabel('Intensity')\n",
        "plt.ylabel('Calories')\n",
        "plt.grid(True)\n",
        "plt.show()"
      ],
      "metadata": {
        "colab": {
          "base_uri": "https://localhost:8080/",
          "height": 564
        },
        "id": "mxg_LRImsu9N",
        "outputId": "58246311-638c-498d-e510-f5bbf88695c8"
      },
      "execution_count": 71,
      "outputs": [
        {
          "output_type": "display_data",
          "data": {
            "text/plain": [
              "<Figure size 1000x600 with 1 Axes>"
            ],
            "image/png": "[encoded data removed]"
          },
          "metadata": {}
        }
      ]
    },
    {
      "cell_type": "code",
      "source": [
        "plt.figure(figsize=(10, 6))\n",
        "sns.histplot(df['Intensity'], bins=20, kde=True)\n",
        "plt.title('Distribution of Activity Intensity Levels')\n",
        "plt.xlabel('Intensity')\n",
        "plt.ylabel('Frequency')\n",
        "plt.grid(True)\n",
        "plt.show()"
      ],
      "metadata": {
        "colab": {
          "base_uri": "https://localhost:8080/",
          "height": 564
        },
        "id": "KTIWVeR3s3TV",
        "outputId": "466470f8-11f8-4bb0-dfc0-3f5010693f2a"
      },
      "execution_count": 72,
      "outputs": [
        {
          "output_type": "display_data",
          "data": {
            "text/plain": [
              "<Figure size 1000x600 with 1 Axes>"
            ],
            "image/png": "[encoded data removed]"
          },
          "metadata": {}
        }
      ]
    },
    {
      "cell_type": "code",
      "source": [
        "fig = px.line(df, x=df.index, y=['Calories', 'METs', 'Steps'],\n",
        "              title='Time Series Analysis', labels={'value': 'Value', 'index': 'Date'},\n",
        "              color_discrete_map={'Calories': 'blue', 'METs': 'green', 'Steps': 'red'})\n",
        "\n",
        "# Update layout\n",
        "fig.update_layout(xaxis_title='Date', yaxis_title='Value', legend_title='Variable')\n",
        "\n",
        "# Show plot\n",
        "fig.show()"
      ],
      "metadata": {
        "id": "AwjNdMtWpa_q"
      },
      "execution_count": 73,
      "outputs": []
    },
    {
      "cell_type": "code",
      "source": [
        "from statsmodels.tsa.seasonal import seasonal_decompose\n",
        "import matplotlib.pyplot as plt\n",
        "\n",
        "# Perform time series decomposition for 'Calories'\n",
        "decomposition = seasonal_decompose(df['Calories'], model='additive', period=7)  # Assuming weekly seasonality\n",
        "trend = decomposition.trend\n",
        "seasonal = decomposition.seasonal\n",
        "residual = decomposition.resid\n",
        "\n",
        "# Plot decomposition components\n",
        "plt.figure(figsize=(12, 8))\n",
        "plt.subplot(411)\n",
        "plt.plot(df['Calories'], label='Original', color='blue')\n",
        "plt.legend(loc='upper left')\n",
        "plt.subplot(412)\n",
        "plt.plot(trend, label='Trend', color='green')\n",
        "plt.legend(loc='upper left')\n",
        "plt.subplot(413)\n",
        "plt.plot(seasonal,label='Seasonality', color='red')\n",
        "plt.legend(loc='upper left')\n",
        "plt.subplot(414)\n",
        "plt.plot(residual, label='Residuals', color='orange')\n",
        "plt.legend(loc='upper left')\n",
        "plt.tight_layout()\n",
        "plt.show()\n"
      ],
      "metadata": {
        "id": "HQ4FHvfKrPK2"
      },
      "execution_count": null,
      "outputs": []
    },
    {
      "cell_type": "code",
      "source": [
        "plt.figure(figsize=(10, 6))\n",
        "sns.kdeplot(df['Intensity'], color='orange', shade=True)\n",
        "plt.title('Activity Intensity Distribution')\n",
        "plt.xlabel('Intensity')\n",
        "plt.ylabel('Density')\n",
        "plt.grid(True)\n",
        "plt.show()"
      ],
      "metadata": {
        "id": "nD7DZWrqrl9Y"
      },
      "execution_count": null,
      "outputs": []
    },
    {
      "cell_type": "markdown",
      "source": [
        "# Visualization"
      ],
      "metadata": {
        "id": "VLaEYTpXm_AF"
      }
    },
    {
      "cell_type": "code",
      "source": [
        "top10_minute = df.groupby(['Name', 'ActivityMinute'])['METs'].max().nlargest(10).reset_index()\n",
        "print(\"Top 10 'Name' with most 'METs' for a single minute:\")\n",
        "print(top10_minute)\n",
        "fig_top = px.bar(top10_minute, x='Name', y='METs', color='Name', title=\"Top 10 'Name' with most 'METs' for a single minute\")\n",
        "fig_top.show()"
      ],
      "metadata": {
        "id": "SGMavcHZmtJM"
      },
      "execution_count": null,
      "outputs": []
    },
    {
      "cell_type": "code",
      "source": [
        "# Remove rows with 0 'METs' for finding the lowest values\n",
        "non_zero_df = df[df['METs'] != 0]\n",
        "\n",
        "# Find bottom 10 'Name' with least 'METs' for a single minute\n",
        "bottom10_minute = non_zero_df.groupby('Name').min().sort_values('METs').head(10).reset_index()\n",
        "\n",
        "# Display the results\n",
        "print(\"Bottom 10 'Name' with least 'METs' for a single minute:\")\n",
        "print(bottom10_minute[['Name', 'ActivityDay', 'ActivityMinute', 'METs']])\n",
        "\n",
        "# Create bar chart for bottom 10\n",
        "fig = px.bar(bottom10_minute, x='Name', y='METs', color='Name', title=\"Bottom 10 'Name' with least 'METs' for a single minute\")\n",
        "fig.show()\n"
      ],
      "metadata": {
        "id": "otvEJbBJnUaO"
      },
      "execution_count": null,
      "outputs": []
    },
    {
      "cell_type": "code",
      "source": [
        "import plotly.express as px\n",
        "\n",
        "# Filter rows where 'sleep' is not 0\n",
        "sleep_data = df[df['Sleep'] != 0]\n",
        "\n",
        "# Create a heatmap for mets, calories, intensity, sleep, and steps\n",
        "heatmap_data = df[['METs', 'Calories', 'Intensity', 'Sleep', 'Steps']]\n",
        "\n",
        "# Create the correlation matrix\n",
        "correlation_matrix = heatmap_data.corr()\n",
        "\n",
        "# Define a custom colorscale with red for negative correlations and blue for positive correlations\n",
        "custom_colorscale = [[0, 'red'], [0.5, 'lightgray'], [1, 'blue']]\n",
        "\n",
        "# Plot the correlation heatmap with the custom colorscale\n",
        "fig = px.imshow(correlation_matrix,\n",
        "                labels=dict(color='Correlation'),\n",
        "                title='Correlation Heatmap for METs, Calories, Intensity, Sleep, and Steps',\n",
        "                color_continuous_scale=custom_colorscale,\n",
        "                x=['METs', 'Calories', 'Intensity', 'Sleep', 'Steps'],\n",
        "                y=['METs', 'Calories', 'Intensity', 'Sleep', 'Steps'])\n",
        "\n",
        "# Show the plot\n",
        "fig.show()\n"
      ],
      "metadata": {
        "id": "WnNzuTUgn7_Z"
      },
      "execution_count": null,
      "outputs": []
    },
    {
      "cell_type": "code",
      "source": [
        "fig_mets_calories = px.scatter(df, x='METs', y='Calories', title='Scatter Plot: METs vs. Calories',\n",
        "                                color_discrete_sequence=['orange'])\n",
        "fig_mets_calories.update_layout(\n",
        "    xaxis_title='METs',               # Set x-axis title\n",
        "    yaxis_title='Calories',           # Set y-axis title\n",
        "    font=dict(family='Arial', size=12),# Set font style and size\n",
        "    plot_bgcolor='white',             # Set plot background color\n",
        "    paper_bgcolor='white',            # Set paper background color\n",
        "    title_font=dict(size=18),         # Set title font size\n",
        "    legend_title_font=dict(size=14),  # Set legend title font size\n",
        "    legend_font=dict(size=12),        # Set legend font size\n",
        "    margin=dict(l=50, r=50, t=80, b=50)  # Set margins\n",
        ")\n",
        "\n",
        "# Show the plot\n",
        "fig_mets_calories.show()\n"
      ],
      "metadata": {
        "id": "1gYkZtbFpWNV"
      },
      "execution_count": null,
      "outputs": []
    },
    {
      "cell_type": "code",
      "source": [
        "import plotly.express as px\n",
        "\n",
        "# Create a scatter plot for METs vs. Intensity with discrete green colors\n",
        "fig_mets_intensity = px.scatter(df, x='METs', y='Intensity', title='Scatter Plot: METs vs. Intensity',\n",
        "                                color_discrete_sequence=['purple'])\n",
        "\n",
        "# Update layout for better appearance\n",
        "fig_mets_intensity.update_layout(\n",
        "    xaxis_title='METs',               # Set x-axis title\n",
        "    yaxis_title='Intensity',          # Set y-axis title\n",
        "    font=dict(family='Arial', size=12),# Set font style and size\n",
        "    plot_bgcolor='white',             # Set plot background color\n",
        "    paper_bgcolor='white',            # Set paper background color\n",
        "    title_font=dict(size=18),         # Set title font size\n",
        "    legend_title_font=dict(size=14),  # Set legend title font size\n",
        "    legend_font=dict(size=12),        # Set legend font size\n",
        "    margin=dict(l=50, r=50, t=80, b=50)  # Set margins\n",
        ")\n",
        "\n",
        "# Show the plot\n",
        "fig_mets_intensity.show()\n"
      ],
      "metadata": {
        "id": "xYFbAwmKqHGs"
      },
      "execution_count": null,
      "outputs": []
    },
    {
      "cell_type": "code",
      "source": [
        "import plotly.express as px\n",
        "\n",
        "# Select relevant columns for pair plot\n",
        "pair_plot_data = df[['METs', 'Calories', 'Intensity', 'Sleep', 'Steps']]\n",
        "\n",
        "# Create pair plot\n",
        "fig_pair = px.scatter_matrix(pair_plot_data, title='Pair Plot: METs, Calories, Intensity, Sleep, and Steps')\n",
        "\n",
        "# Update layout for better appearance\n",
        "fig_pair.update_layout(\n",
        "    font=dict(family='Arial', size=12),  # Set font style and size\n",
        "    plot_bgcolor='white',                # Set plot background color\n",
        "    paper_bgcolor='white',               # Set paper background color\n",
        "    title_font=dict(size=18),            # Set title font size\n",
        ")\n",
        "\n",
        "# Show the plot\n",
        "fig_pair.show()\n"
      ],
      "metadata": {
        "id": "sPR4IbJGqunv"
      },
      "execution_count": null,
      "outputs": []
    },
    {
      "cell_type": "code",
      "source": [],
      "metadata": {
        "id": "P1CimJncr2w6"
      },
      "execution_count": null,
      "outputs": []
    }
  ]
}